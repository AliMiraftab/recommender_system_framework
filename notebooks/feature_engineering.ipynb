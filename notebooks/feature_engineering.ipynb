{
 "cells": [
  {
   "cell_type": "code",
   "execution_count": null,
   "metadata": {},
   "outputs": [],
   "source": [
    "import os\n",
    "\n",
    "class project():\n",
    "    \"\"\"\n",
    "    let's assume we made a class named project which processes the historical production data \n",
    "    and provides us a set of apis to work with differnt data sources to make tables for our\n",
    "    user, auction, and interaction data\n",
    "    \"\"\"\n",
    "    def __init__(self) -> None:\n",
    "        pass\n",
    "    def get_dataset_api(self):\n",
    "        return \n",
    "\n",
    "# download datasets\n",
    "dataset_api = project.get_dataset_api()\n",
    "\n",
    "data_dir = \"data/\"\n",
    "\n",
    "if not os.path.exists(data_dir):\n",
    "    os.mkdir(data_dir)\n",
    "\n",
    "for file in [\"users.parquet\", \"auctions.parquet\", \"transactions.parquet\"]:\n",
    "    dataset_api.make_tables(f\"Resources/{file}\", local_path=data_dir, overwrite=True)\n",
    "\n",
    "\n"
   ]
  }
 ],
 "metadata": {
  "language_info": {
   "name": "python"
  },
  "orig_nbformat": 4
 },
 "nbformat": 4,
 "nbformat_minor": 2
}
